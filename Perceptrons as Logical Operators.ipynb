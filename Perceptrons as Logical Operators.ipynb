{
 "cells": [
  {
   "cell_type": "code",
   "execution_count": 41,
   "id": "efa50112",
   "metadata": {},
   "outputs": [],
   "source": [
    "import pandas as pd\n",
    "# Set weight1, weight2, and bias\n",
    "weight1=1\n",
    "weight2=1\n",
    "bias=-2\n"
   ]
  },
  {
   "cell_type": "code",
   "execution_count": 42,
   "id": "23684a03",
   "metadata": {},
   "outputs": [],
   "source": [
    "# Inputs and outputs\n",
    "test_inputs=[(0,0),(0,1),(1,0),(1,1)]\n",
    "correct_outputs=[False,False,False,True]\n",
    "outputs=[]"
   ]
  },
  {
   "cell_type": "code",
   "execution_count": 43,
   "id": "b85e2bf8",
   "metadata": {},
   "outputs": [
    {
     "name": "stdout",
     "output_type": "stream",
     "text": [
      "[[0, 0, -2, 0, 'Yes'], [0, 1, -1, 0, 'Yes'], [1, 0, -1, 0, 'Yes'], [1, 1, 0, 1, 'Yes']]\n"
     ]
    }
   ],
   "source": [
    "# Generate and check output\n",
    "for test_input,correct_output in zip(test_inputs,correct_outputs):\n",
    "    linear_combination=weight1*test_input[0]+weight2*test_input[1]+bias\n",
    "    output=int(linear_combination>=0)\n",
    "    is_correct=\"Yes\" if output==correct_output else \"No\"\n",
    "    outputs.append([test_input[0],test_input[1],linear_combination,output,is_correct])\n",
    "print(outputs)    "
   ]
  },
  {
   "cell_type": "code",
   "execution_count": 45,
   "id": "03f626a0",
   "metadata": {},
   "outputs": [
    {
     "name": "stdout",
     "output_type": "stream",
     "text": [
      "Nice!  You got it all correct.\n",
      "\n",
      " Input 1  Input 2  Linear Combination  Activation Output Is Correct\n",
      "       0        0                  -2                  0        Yes\n",
      "       0        1                  -1                  0        Yes\n",
      "       1        0                  -1                  0        Yes\n",
      "       1        1                   0                  1        Yes\n"
     ]
    }
   ],
   "source": [
    "# Print output\n",
    "num_wrong=len([output[4] for output in outputs if output[4]=='No']) \n",
    "output_frame=pd.DataFrame(outputs,columns=['Input 1','Input 2','Linear Combination','Activation Output','Is Correct'])\n",
    "if not num_wrong:\n",
    "    print('Nice!  You got it all correct.\\n')\n",
    "else:\n",
    "    print('You got {} wrong(s).  Keep trying!\\n'.format(num_wrong))\n",
    "print(output_frame.to_string(index=False))    "
   ]
  },
  {
   "cell_type": "code",
   "execution_count": null,
   "id": "fef4eeee",
   "metadata": {},
   "outputs": [],
   "source": []
  }
 ],
 "metadata": {
  "kernelspec": {
   "display_name": "Python 3 (ipykernel)",
   "language": "python",
   "name": "python3"
  },
  "language_info": {
   "codemirror_mode": {
    "name": "ipython",
    "version": 3
   },
   "file_extension": ".py",
   "mimetype": "text/x-python",
   "name": "python",
   "nbconvert_exporter": "python",
   "pygments_lexer": "ipython3",
   "version": "3.9.7"
  }
 },
 "nbformat": 4,
 "nbformat_minor": 5
}
